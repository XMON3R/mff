{
 "cells": [
  {
   "cell_type": "markdown",
   "id": "93fce450-bd71-4c96-8a5d-5f25a7d20e56",
   "metadata": {},
   "source": [
    "# Statistická práce o hudebních nosičích v USA 1973-2019\n",
    "value_actual jsou miliony"
   ]
  },
  {
   "cell_type": "code",
   "execution_count": null,
   "id": "437163c2-d056-49e8-80d9-921583dfb840",
   "metadata": {},
   "outputs": [],
   "source": []
  }
 ],
 "metadata": {
  "kernelspec": {
   "display_name": "Python 3 (ipykernel)",
   "language": "python",
   "name": "python3"
  },
  "language_info": {
   "codemirror_mode": {
    "name": "ipython",
    "version": 3
   },
   "file_extension": ".py",
   "mimetype": "text/x-python",
   "name": "python",
   "nbconvert_exporter": "python",
   "pygments_lexer": "ipython3",
   "version": "3.10.5"
  }
 },
 "nbformat": 4,
 "nbformat_minor": 5
}
